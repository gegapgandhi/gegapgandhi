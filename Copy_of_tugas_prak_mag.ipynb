{
  "nbformat": 4,
  "nbformat_minor": 0,
  "metadata": {
    "colab": {
      "provenance": [],
      "collapsed_sections": [],
      "authorship_tag": "ABX9TyOX+LElS/QFL/2Gp73Y2n9v",
      "include_colab_link": true
    },
    "kernelspec": {
      "name": "python3",
      "display_name": "Python 3"
    },
    "language_info": {
      "name": "python"
    }
  },
  "cells": [
    {
      "cell_type": "markdown",
      "metadata": {
        "id": "view-in-github",
        "colab_type": "text"
      },
      "source": [
        "<a href=\"https://colab.research.google.com/github/gegapgandhi/gegapgandhi/blob/main/Copy_of_tugas_prak_mag.ipynb\" target=\"_parent\"><img src=\"https://colab.research.google.com/assets/colab-badge.svg\" alt=\"Open In Colab\"/></a>"
      ]
    },
    {
      "cell_type": "markdown",
      "source": [
        "\n",
        "\n",
        "```\n",
        "# This is formatted as code\n",
        "```\n",
        "\n"
      ],
      "metadata": {
        "id": "FzeUg05OKzc9"
      }
    },
    {
      "cell_type": "markdown",
      "source": [
        "# TUGAS PRAKTIKUM MAG PERTEMUAN 1\n",
        "## Gegap Bijak Gandhi (21/473702/PA/20419)"
      ],
      "metadata": {
        "id": "hWqtJLzILAqT"
      }
    },
    {
      "cell_type": "markdown",
      "source": [
        "1. x t = cos t + sin t +\n",
        "π\n",
        "2\n",
        ", 0 ≤ t ≤ 2π"
      ],
      "metadata": {
        "id": "j0bikvCEK6AL"
      }
    },
    {
      "cell_type": "code",
      "source": [
        "import numpy as np\n",
        "from matplotlib import pyplot as plt\n",
        "\n",
        "\n",
        "# signal phase\n",
        "theta = np.pi/2\n",
        "# time interval\n",
        "dt = 0.01\n",
        "t = np.arange(0,2*np.pi+dt,dt)\n",
        "# Signal definition\n",
        "x = np.cos(t)+np.sin(t+theta)\n",
        "# Plot the signal\n",
        "plt.plot(t,x) \n",
        "plt.grid(True) \n",
        "plt.xlabel('t')\n",
        "plt.ylabel('x(t)')"
      ],
      "metadata": {
        "colab": {
          "base_uri": "https://localhost:8080/",
          "height": 296
        },
        "id": "R-pRI0YqfH-t",
        "outputId": "194741ca-e942-437f-9578-43ce1e377cc3"
      },
      "execution_count": 17,
      "outputs": [
        {
          "output_type": "execute_result",
          "data": {
            "text/plain": [
              "Text(0, 0.5, 'x(t)')"
            ]
          },
          "metadata": {},
          "execution_count": 17
        },
        {
          "output_type": "display_data",
          "data": {
            "text/plain": [
              "<Figure size 432x288 with 1 Axes>"
            ],
            "image/png": "[encoded data removed]"
          },
          "metadata": {
            "needs_background": "light"
          }
        }
      ]
    },
    {
      "cell_type": "markdown",
      "source": [
        "<font size=\"3\">2. x(t) = $\\frac {1}{\\sqrt{2\\pi}} e^{- \\frac {t^{2}}{0.4}}$  $\\;\\;\\;\\;\\;\\;\\;\\;\\;\\;\\;$             -5 $\\leq$ t $\\leq$ 5 </font>"
      ],
      "metadata": {
        "id": "plPgn4UZLVqv"
      }
    },
    {
      "cell_type": "code",
      "source": [
        "import numpy as np\n",
        "import pylab as plt\n",
        "# Time interval\n",
        "dt = 0.1\n",
        "t = np.arange(-5,5+dt,dt)\n",
        "# Signal x(t)\n",
        "x = 1/np.sqrt(2*np.pi)*np.exp(-t**2/0.4)\n",
        "# Plot the signals\n",
        "plt.plot(t,x) \n",
        "plt.grid(True)\n",
        "plt.xlabel('t') \n",
        "plt.ylabel('x(t)') \n",
        "plt.show() "
      ],
      "metadata": {
        "colab": {
          "base_uri": "https://localhost:8080/",
          "height": 279
        },
        "id": "Plyh-RSSglhZ",
        "outputId": "904c5761-ed15-484c-db0f-c99444a7fc55"
      },
      "execution_count": 18,
      "outputs": [
        {
          "output_type": "display_data",
          "data": {
            "text/plain": [
              "<Figure size 432x288 with 1 Axes>"
            ],
            "image/png": "[encoded data removed]"
          },
          "metadata": {
            "needs_background": "light"
          }
        }
      ]
    },
    {
      "cell_type": "markdown",
      "source": [
        "#### <font size=\"3\">3.$\\;$ ${x(t) = e^{-t}H(t+2)}$  $\\;\\;\\;\\;\\;\\;\\;\\;\\;\\;\\;$  ${-5 \\leq t \\leq 10}$ </font>"
      ],
      "metadata": {
        "id": "mEe3NMI1MFg4"
      }
    },
    {
      "cell_type": "code",
      "source": [
        "import numpy as np \n",
        "import pylab as plt\n",
        "\n",
        "# Time interval\n",
        "dt = 0.01\n",
        "t = np.arange(-5,10+dt,dt)\n",
        "\n",
        "# Signal Definition for Heaviside Function\n",
        "h = [1 if t[i]>-2 else 0 for i in range(len(t))]\n",
        "\n",
        "# Signal Exponetial\n",
        "x = (-t)\n",
        "exp = np.exp(-t)\n",
        "\n",
        "# Signal definition\n",
        "x = np.exp(-t)*h\n",
        "\n",
        "# Plot the signal\n",
        "plt.plot(t,x) \n",
        "plt.grid(True) \n",
        "plt.xlabel('t')\n",
        "plt.ylabel('x(t)')"
      ],
      "metadata": {
        "id": "jpVYWx_aiU-f",
        "colab": {
          "base_uri": "https://localhost:8080/",
          "height": 296
        },
        "outputId": "063c6f49-ee1a-4a1c-c492-b7c6c7de6aaa"
      },
      "execution_count": 15,
      "outputs": [
        {
          "output_type": "execute_result",
          "data": {
            "text/plain": [
              "Text(0, 0.5, 'x(t)')"
            ]
          },
          "metadata": {},
          "execution_count": 15
        },
        {
          "output_type": "display_data",
          "data": {
            "text/plain": [
              "<Figure size 432x288 with 1 Axes>"
            ],
            "image/png": "[encoded data removed]"
          },
          "metadata": {
            "needs_background": "light"
          }
        }
      ]
    },
    {
      "cell_type": "markdown",
      "source": [
        "#### <font size=\"3\"> 4.$\\;$ ${x(t) = \\delta(t-2)}$ $\\;\\;\\;\\;\\;\\;\\;\\;\\;\\;\\;$ ${-5 \\leq t \\leq 10}$ </font>"
      ],
      "metadata": {
        "id": "JrBgFNPoMOtO"
      }
    },
    {
      "cell_type": "code",
      "source": [
        "import numpy as np\n",
        "import pylab as plt\n",
        "\n",
        "# Define the first time interval\n",
        "dt = 0.1\n",
        "t1 = np.arange(-5,1.9+dt,dt)\n",
        "# Define the second time interval\n",
        "t2 = [2.]\n",
        "# Define the third time interval\n",
        "t3 = np.arange(2.1,10+dt,dt)\n",
        "# Define d(t) in the interval t1\n",
        "d1 = np.zeros_like(t1)\n",
        "# Define d(t) on t2\n",
        "d2 = [1.]\n",
        "# Define d(t) in the interval t3\n",
        "d3 = np.zeros_like(t3)\n",
        "# concatenation of vector t and d\n",
        "t = np.concatenate((t1,t2,t3))\n",
        "d = np.concatenate((d1,d2,d3))\n",
        "#plot the signal\n",
        "plt.plot(t,d) \n",
        "plt.grid(True) \n",
        "plt.xlabel('t')\n",
        "plt.ylabel('d(t)')"
      ],
      "metadata": {
        "colab": {
          "base_uri": "https://localhost:8080/",
          "height": 296
        },
        "id": "PLVLtyMUFMf9",
        "outputId": "f4dde1e5-768e-4198-e93f-19e2a2ee442b"
      },
      "execution_count": 14,
      "outputs": [
        {
          "output_type": "execute_result",
          "data": {
            "text/plain": [
              "Text(0, 0.5, 'd(t)')"
            ]
          },
          "metadata": {},
          "execution_count": 14
        },
        {
          "output_type": "display_data",
          "data": {
            "text/plain": [
              "<Figure size 432x288 with 1 Axes>"
            ],
            "image/png": "[encoded data removed]"
          },
          "metadata": {
            "needs_background": "light"
          }
        }
      ]
    },
    {
      "cell_type": "markdown",
      "source": [
        "### 5. ${x(t) = \\delta(t-1) + \\delta(t+2)}$  ${-5 \\leq t \\leq 10}$"
      ],
      "metadata": {
        "id": "fAtaHWq9MTA4"
      }
    },
    {
      "cell_type": "code",
      "source": [
        "import numpy as np\n",
        "import pylab as plt\n",
        "\n",
        "# Define the first time interval\n",
        "dt = 0.1\n",
        "t1 = np.arange(-5,-2.1+dt,dt)\n",
        "# Define the second time interval\n",
        "t2 = [-2.]\n",
        "# Define the third time interval\n",
        "t3 = np.arange(-1.9,0.9+dt,dt)\n",
        "# Define the forth time interval\n",
        "t4 = [1.]\n",
        "# Define the fifth time interval\n",
        "t5 = np.arange(1.1,10+dt,dt)\n",
        "# Define d(t) in the interval t1\n",
        "d1 = np.zeros_like(t1)\n",
        "# Define d(t) on t2\n",
        "d2 = [1.]\n",
        "# Define d(t) in the interval t3\n",
        "d3 = np.zeros_like(t3)\n",
        "# Define d(t) on t4\n",
        "d4 = [1.]\n",
        "# Define d(t) in the interval t5\n",
        "d5 = np.zeros_like(t5)\n",
        "# concatenation of vector t and d\n",
        "t = np.concatenate((t1,t2,t3,t4,t5))\n",
        "d = np.concatenate((d1,d2,d3,d4,d5))\n",
        "#plot the signal\n",
        "plt.plot(t,d) \n",
        "plt.grid(True) \n",
        "plt.xlabel('t')\n",
        "plt.ylabel('d(t)') \n"
      ],
      "metadata": {
        "colab": {
          "base_uri": "https://localhost:8080/",
          "height": 296
        },
        "id": "QjITf_U2FniG",
        "outputId": "2a893c1d-ecd6-4679-8bc3-310e4702388b"
      },
      "execution_count": 13,
      "outputs": [
        {
          "output_type": "execute_result",
          "data": {
            "text/plain": [
              "Text(0, 0.5, 'd(t)')"
            ]
          },
          "metadata": {},
          "execution_count": 13
        },
        {
          "output_type": "display_data",
          "data": {
            "text/plain": [
              "<Figure size 432x288 with 1 Axes>"
            ],
            "image/png": "[encoded data removed]"
          },
          "metadata": {
            "needs_background": "light"
          }
        }
      ]
    },
    {
      "cell_type": "code",
      "source": [],
      "metadata": {
        "id": "aoH2YW4VGZ6w"
      },
      "execution_count": null,
      "outputs": []
    }
  ]
}