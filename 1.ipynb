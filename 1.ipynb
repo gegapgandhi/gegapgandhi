{
  "nbformat": 4,
  "nbformat_minor": 0,
  "metadata": {
    "colab": {
      "provenance": [],
      "authorship_tag": "ABX9TyPveWIgqjfC8bZp75A0ZQjC",
      "include_colab_link": true
    },
    "kernelspec": {
      "name": "python3",
      "display_name": "Python 3"
    },
    "language_info": {
      "name": "python"
    }
  },
  "cells": [
    {
      "cell_type": "markdown",
      "metadata": {
        "id": "view-in-github",
        "colab_type": "text"
      },
      "source": [
        "<a href=\"https://colab.research.google.com/github/gegapgandhi/gegapgandhi/blob/main/1.ipynb\" target=\"_parent\"><img src=\"https://colab.research.google.com/assets/colab-badge.svg\" alt=\"Open In Colab\"/></a>"
      ]
    },
    {
      "cell_type": "code",
      "source": [
        "import numpy as np\n",
        "sudut =np.arange(0,360,10)\n",
        "sudut"
      ],
      "metadata": {
        "colab": {
          "base_uri": "https://localhost:8080/"
        },
        "id": "h3GzpPDUs0tL",
        "outputId": "4ff1a523-12a5-4657-b36c-ae76415815f7"
      },
      "execution_count": 2,
      "outputs": [
        {
          "output_type": "execute_result",
          "data": {
            "text/plain": [
              "array([  0,  10,  20,  30,  40,  50,  60,  70,  80,  90, 100, 110, 120,\n",
              "       130, 140, 150, 160, 170, 180, 190, 200, 210, 220, 230, 240, 250,\n",
              "       260, 270, 280, 290, 300, 310, 320, 330, 340, 350])"
            ]
          },
          "metadata": {},
          "execution_count": 2
        }
      ]
    },
    {
      "cell_type": "code",
      "source": [
        "sudut_radian=np.radians(sudut)\n",
        "sudut_radian"
      ],
      "metadata": {
        "colab": {
          "base_uri": "https://localhost:8080/"
        },
        "id": "LfEbzahuucXo",
        "outputId": "64028687-e431-4bdb-da28-a1f6c7dfd5c3"
      },
      "execution_count": 3,
      "outputs": [
        {
          "output_type": "execute_result",
          "data": {
            "text/plain": [
              "array([0.        , 0.17453293, 0.34906585, 0.52359878, 0.6981317 ,\n",
              "       0.87266463, 1.04719755, 1.22173048, 1.3962634 , 1.57079633,\n",
              "       1.74532925, 1.91986218, 2.0943951 , 2.26892803, 2.44346095,\n",
              "       2.61799388, 2.7925268 , 2.96705973, 3.14159265, 3.31612558,\n",
              "       3.4906585 , 3.66519143, 3.83972435, 4.01425728, 4.1887902 ,\n",
              "       4.36332313, 4.53785606, 4.71238898, 4.88692191, 5.06145483,\n",
              "       5.23598776, 5.41052068, 5.58505361, 5.75958653, 5.93411946,\n",
              "       6.10865238])"
            ]
          },
          "metadata": {},
          "execution_count": 3
        }
      ]
    },
    {
      "cell_type": "code",
      "source": [
        "sinus=np.sin(sudut_radian)\n",
        "sinus"
      ],
      "metadata": {
        "colab": {
          "base_uri": "https://localhost:8080/"
        },
        "id": "0OnFKERrvgLg",
        "outputId": "9a734398-be9b-4995-b328-8efefda81a38"
      },
      "execution_count": 4,
      "outputs": [
        {
          "output_type": "execute_result",
          "data": {
            "text/plain": [
              "array([ 0.00000000e+00,  1.73648178e-01,  3.42020143e-01,  5.00000000e-01,\n",
              "        6.42787610e-01,  7.66044443e-01,  8.66025404e-01,  9.39692621e-01,\n",
              "        9.84807753e-01,  1.00000000e+00,  9.84807753e-01,  9.39692621e-01,\n",
              "        8.66025404e-01,  7.66044443e-01,  6.42787610e-01,  5.00000000e-01,\n",
              "        3.42020143e-01,  1.73648178e-01,  1.22464680e-16, -1.73648178e-01,\n",
              "       -3.42020143e-01, -5.00000000e-01, -6.42787610e-01, -7.66044443e-01,\n",
              "       -8.66025404e-01, -9.39692621e-01, -9.84807753e-01, -1.00000000e+00,\n",
              "       -9.84807753e-01, -9.39692621e-01, -8.66025404e-01, -7.66044443e-01,\n",
              "       -6.42787610e-01, -5.00000000e-01, -3.42020143e-01, -1.73648178e-01])"
            ]
          },
          "metadata": {},
          "execution_count": 4
        }
      ]
    },
    {
      "cell_type": "code",
      "source": [
        "import matplotlib.pyplot as plt\n",
        "plt.plot(sudut, sinus)"
      ],
      "metadata": {
        "colab": {
          "base_uri": "https://localhost:8080/",
          "height": 282
        },
        "id": "XeJyh-hwvnJY",
        "outputId": "b15048cf-4491-473f-eb8a-3923c1218a3c"
      },
      "execution_count": 5,
      "outputs": [
        {
          "output_type": "execute_result",
          "data": {
            "text/plain": [
              "[<matplotlib.lines.Line2D at 0x7fe9c024c650>]"
            ]
          },
          "metadata": {},
          "execution_count": 5
        },
        {
          "output_type": "display_data",
          "data": {
            "text/plain": [
              "<Figure size 432x288 with 1 Axes>"
            ],
            "image/png": "[encoded data removed]"
          },
          "metadata": {
            "needs_background": "light"
          }
        }
      ]
    }
  ]
}