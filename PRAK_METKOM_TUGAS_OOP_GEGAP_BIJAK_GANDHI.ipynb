{
  "nbformat": 4,
  "nbformat_minor": 0,
  "metadata": {
    "colab": {
      "provenance": [],
      "collapsed_sections": [],
      "authorship_tag": "ABX9TyNyNemqTTAuwWulRw/1O0+p",
      "include_colab_link": true
    },
    "kernelspec": {
      "name": "python3",
      "display_name": "Python 3"
    },
    "language_info": {
      "name": "python"
    }
  },
  "cells": [
    {
      "cell_type": "markdown",
      "metadata": {
        "id": "view-in-github",
        "colab_type": "text"
      },
      "source": [
        "<a href=\"https://colab.research.google.com/github/gegapgandhi/gegapgandhi/blob/main/PRAK_METKOM_TUGAS_OOP_GEGAP_BIJAK_GANDHI.ipynb\" target=\"_parent\"><img src=\"https://colab.research.google.com/assets/colab-badge.svg\" alt=\"Open In Colab\"/></a>"
      ]
    },
    {
      "cell_type": "markdown",
      "source": [
        "##TUGAS OOP-PRAKTIKUM METODE KOMPUTASI\n",
        "\n",
        "\n",
        "\n",
        "###GEGAP BIJAK GANDHI\n",
        "####21/473702/PA/20419\n"
      ],
      "metadata": {
        "id": "uEYqcoErO0Wt"
      }
    },
    {
      "cell_type": "markdown",
      "source": [
        "####TUGAS OOP 1: Buat Kelas dengan atribut instance\n",
        "#####Tulis program Python untuk membuat kelas apapun dengan atribut instance-nya."
      ],
      "metadata": {
        "id": "KN0XZa4qDbvP"
      }
    },
    {
      "cell_type": "code",
      "execution_count": 17,
      "metadata": {
        "colab": {
          "base_uri": "https://localhost:8080/"
        },
        "id": "atl5U2UIm-FC",
        "outputId": "dccc36d1-61f3-47a5-a456-ac2f2b9a7f2f"
      },
      "outputs": [
        {
          "output_type": "stream",
          "name": "stdout",
          "text": [
            "That is Zebra\n",
            "She is 5 years old\n"
          ]
        }
      ],
      "source": [
        "class animal:\n",
        "    def __init__(self, species, age):\n",
        "        self.species = species\n",
        "        self.age = age\n",
        "        \n",
        "    def kindofanimal(self):\n",
        "        print(\"That is \" + self.species)\n",
        "        print(\"She is \" + str(self.age) + \" years old\")\n",
        "        \n",
        "author = animal(\"Zebra\",5)\n",
        "author.kindofanimal()"
      ]
    },
    {
      "cell_type": "markdown",
      "source": [
        "####TUGAS OOP 2: Parent and Child\n",
        "#####Buatlah sebuah kelas yang akan menjadi Parrent class yang akan menurunkan variable ke Child classnya"
      ],
      "metadata": {
        "id": "h8ei3ssnDMoW"
      }
    },
    {
      "cell_type": "code",
      "source": [
        "class animal:\n",
        "    def __init__(self, species, age):\n",
        "      self.species = species\n",
        "      self.age = age\n",
        "\n",
        "    def showup(self):\n",
        "      print(self.species)\n",
        "      print(self.age)\n",
        "\n",
        "    def kindofanimal(self):\n",
        "      print(\"That is {}\".format(self.species))\n",
        "      print(\"She is {} years old\".format(self.age))\n",
        "  \n",
        "class mamalia:\n",
        "    def __init__(self, species, age, feet, habitat):\n",
        "      self.feet= feet\n",
        "      self.habitat= habitat\n",
        "\n",
        "      animal.__init__(self, species, age)\n",
        "\n",
        "    def introduce(self):\n",
        "      print(\"That is {}\".format(self.species))\n",
        "      print(\"She is {} years old\".format(self.age))\n",
        "      print(\"She have {} feets\".format(self.feet))\n",
        "      print(\"She live at {} \".format(self.habitat))\n",
        "\n",
        "author = mamalia(\"Zebra\",5,4,\"africa\")\n",
        "author.introduce()"
      ],
      "metadata": {
        "colab": {
          "base_uri": "https://localhost:8080/"
        },
        "id": "V0stLEOODBIC",
        "outputId": "4756c05a-fc9e-4d78-8ead-567171719109"
      },
      "execution_count": 23,
      "outputs": [
        {
          "output_type": "stream",
          "name": "stdout",
          "text": [
            "That is Zebra\n",
            "She is 5 years old\n",
            "She have 4 feets\n",
            "She live at africa \n"
          ]
        }
      ]
    },
    {
      "cell_type": "markdown",
      "source": [
        "####TUGAS OOP 3: Warisan Kelas\n",
        "#####Diberikan: Buat kelas Bus yang menghargai dari kelas Kendaraan. Berikan argumen kapasitas Bus.seating_capacity() nilai default 50."
      ],
      "metadata": {
        "id": "yfnxvPkpNH7_"
      }
    },
    {
      "cell_type": "code",
      "source": [
        "class Vehicle:\n",
        "    def __init__(self, name, max_speed, mileage):\n",
        "        self.name = name\n",
        "        self.max_speed = max_speed\n",
        "        self.mileage = mileage\n",
        "class bus:\n",
        "  def __init__(self, name, max_speed, mileage, capacity):\n",
        "    self.capacity= capacity\n",
        "    \n",
        "    Vehicle.__init__(self, name, max_speed, mileage)\n",
        "  def seating_capacity(self):\n",
        "    return 'The seating capacity of a {} is {} passengers'.format(self.name, self.capacity)\n",
        "\n",
        "bus= bus ('Bus', 250, 100, 50)\n",
        "bus.seating_capacity()"
      ],
      "metadata": {
        "colab": {
          "base_uri": "https://localhost:8080/",
          "height": 35
        },
        "id": "-du20zO8NMPG",
        "outputId": "33910437-dbbd-430c-820e-5e83a9da01a5"
      },
      "execution_count": 25,
      "outputs": [
        {
          "output_type": "execute_result",
          "data": {
            "text/plain": [
              "'The seating capacity of a Bus is 50 passengers'"
            ],
            "application/vnd.google.colaboratory.intrinsic+json": {
              "type": "string"
            }
          },
          "metadata": {},
          "execution_count": 25
        }
      ]
    }
  ]
}